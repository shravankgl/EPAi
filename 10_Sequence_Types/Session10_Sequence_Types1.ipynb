{
  "nbformat": 4,
  "nbformat_minor": 0,
  "metadata": {
    "colab": {
      "name": "Session10 Sequence Types1.ipynb",
      "provenance": [],
      "collapsed_sections": []
    },
    "kernelspec": {
      "name": "python3",
      "display_name": "Python 3"
    },
    "language_info": {
      "name": "python"
    }
  },
  "cells": [
    {
      "cell_type": "markdown",
      "metadata": {
        "id": "_rgxiqlW1umZ"
      },
      "source": [
        "Import Modules"
      ]
    },
    {
      "cell_type": "code",
      "metadata": {
        "id": "sIae1_6A0Tlh"
      },
      "source": [
        "from regularConvexPolygon import RegularConvexPolygon\n",
        "from polygonSequence import PolygonSequence"
      ],
      "execution_count": null,
      "outputs": []
    },
    {
      "cell_type": "markdown",
      "metadata": {
        "id": "RVUjLV4BCDXq"
      },
      "source": [
        "# Regular Convex Polygon"
      ]
    },
    {
      "cell_type": "markdown",
      "metadata": {
        "id": "0dT6OSwZ2xst"
      },
      "source": [
        "Polygon dictonary"
      ]
    },
    {
      "cell_type": "code",
      "metadata": {
        "id": "dsXraSW82Z4z"
      },
      "source": [
        "polygon_dict = {3 : 'triangle',\n",
        "                4 : 'quadrilateral',\n",
        "                5 : 'pentagon',\n",
        "                6 : 'hexagon',\n",
        "                7 : 'heptagon',\n",
        "                8 : 'octagon',\n",
        "                9 : 'nonagon',\n",
        "                10 : 'decagon',\n",
        "                }"
      ],
      "execution_count": 62,
      "outputs": []
    },
    {
      "cell_type": "code",
      "metadata": {
        "colab": {
          "base_uri": "https://localhost:8080/"
        },
        "id": "mIyZE8YG3TNh",
        "outputId": "abd98d7c-012a-42ab-c166-36d8fe34cfb1"
      },
      "source": [
        "print(\"In circumradius 10\")\n",
        "for i in range(3,11):\n",
        "    polygon = RegularConvexPolygon(i,10)\n",
        "    print(\"{} has area:{:.2f}, perimeter:{:.2f}, interior_angle:{:.2f}, edge_length:{:.2f}, apothem:{:.2f}\"\n",
        "    .format(polygon_dict[i],polygon.area, polygon.perimeter, polygon.interior_angle, polygon.edge_length, polygon.apothem))"
      ],
      "execution_count": 73,
      "outputs": [
        {
          "output_type": "stream",
          "text": [
            "In circumradius 10\n",
            "triangle has area:129.90, perimeter:51.96, interior_angle:60.00, edge_length:17.32, apothem:5.00\n",
            "quadrilateral has area:200.00, perimeter:56.57, interior_angle:90.00, edge_length:14.14, apothem:7.07\n",
            "pentagon has area:237.76, perimeter:58.78, interior_angle:108.00, edge_length:11.76, apothem:8.09\n",
            "hexagon has area:259.81, perimeter:60.00, interior_angle:120.00, edge_length:10.00, apothem:8.66\n",
            "heptagon has area:273.64, perimeter:60.74, interior_angle:128.57, edge_length:8.68, apothem:9.01\n",
            "octagon has area:282.84, perimeter:61.23, interior_angle:135.00, edge_length:7.65, apothem:9.24\n",
            "nonagon has area:289.25, perimeter:61.56, interior_angle:140.00, edge_length:6.84, apothem:9.40\n",
            "decagon has area:293.89, perimeter:61.80, interior_angle:144.00, edge_length:6.18, apothem:9.51\n"
          ],
          "name": "stdout"
        }
      ]
    },
    {
      "cell_type": "markdown",
      "metadata": {
        "id": "hGwthRvf1x5I"
      },
      "source": [
        "Create Regular polygon"
      ]
    },
    {
      "cell_type": "code",
      "metadata": {
        "id": "W0_LK9e6DVth"
      },
      "source": [
        "triangle = RegularConvexPolygon(3,10)\n",
        "square   = RegularConvexPolygon(4,10)\n",
        "pentagon = RegularConvexPolygon(5,10)\n",
        "hexagon  = RegularConvexPolygon(6,10)\n",
        "heptagon = RegularConvexPolygon(7,10)\n",
        "octagon  = RegularConvexPolygon(8,10)\n",
        "nonagon  = RegularConvexPolygon(9,10)\n",
        "decagon  = RegularConvexPolygon(10,10)"
      ],
      "execution_count": 77,
      "outputs": []
    },
    {
      "cell_type": "code",
      "metadata": {
        "colab": {
          "base_uri": "https://localhost:8080/"
        },
        "id": "gkz8IZuiEpwy",
        "outputId": "512edb9d-63c3-4be1-f4d4-1d3dc28cfa86"
      },
      "source": [
        "print(triangle)\n",
        "print(square)"
      ],
      "execution_count": 84,
      "outputs": [
        {
          "output_type": "stream",
          "text": [
            "Regular Strictly Convex Polygon: edges = 3, radius = 10\n",
            "Regular Strictly Convex Polygon: edges = 4, radius = 10\n"
          ],
          "name": "stdout"
        }
      ]
    },
    {
      "cell_type": "code",
      "metadata": {
        "id": "UOgiMir3_cYn"
      },
      "source": [
        "Checking comparators"
      ],
      "execution_count": null,
      "outputs": []
    },
    {
      "cell_type": "code",
      "metadata": {
        "colab": {
          "base_uri": "https://localhost:8080/"
        },
        "id": "KCZ5TipD_Cba",
        "outputId": "cbab87ea-f11e-4c43-88d7-495b5d1b452d"
      },
      "source": [
        "square > triangle"
      ],
      "execution_count": 78,
      "outputs": [
        {
          "output_type": "execute_result",
          "data": {
            "text/plain": [
              "True"
            ]
          },
          "metadata": {
            "tags": []
          },
          "execution_count": 78
        }
      ]
    },
    {
      "cell_type": "code",
      "metadata": {
        "colab": {
          "base_uri": "https://localhost:8080/"
        },
        "id": "vJfJ3ASEElks",
        "outputId": "e8d9afb2-e041-45d5-f901-3472d5c1c81b"
      },
      "source": [
        "heptagon > decagon"
      ],
      "execution_count": 79,
      "outputs": [
        {
          "output_type": "execute_result",
          "data": {
            "text/plain": [
              "False"
            ]
          },
          "metadata": {
            "tags": []
          },
          "execution_count": 79
        }
      ]
    },
    {
      "cell_type": "code",
      "metadata": {
        "colab": {
          "base_uri": "https://localhost:8080/"
        },
        "id": "MuH9swBb_jMF",
        "outputId": "c12e620e-2274-48ef-e0f7-d8b128232b39"
      },
      "source": [
        "triangle2 = RegularConvexPolygon(3,10)\n",
        "triangle == triangle2"
      ],
      "execution_count": 80,
      "outputs": [
        {
          "output_type": "execute_result",
          "data": {
            "text/plain": [
              "True"
            ]
          },
          "metadata": {
            "tags": []
          },
          "execution_count": 80
        }
      ]
    },
    {
      "cell_type": "code",
      "metadata": {
        "colab": {
          "base_uri": "https://localhost:8080/"
        },
        "id": "b2LKmYZ8Bo6c",
        "outputId": "a088480b-ff00-491f-d317-c4cd3376c900"
      },
      "source": [
        "triangle2 = RegularConvexPolygon(3,11)\n",
        "triangle == triangle2"
      ],
      "execution_count": 81,
      "outputs": [
        {
          "output_type": "execute_result",
          "data": {
            "text/plain": [
              "False"
            ]
          },
          "metadata": {
            "tags": []
          },
          "execution_count": 81
        }
      ]
    },
    {
      "cell_type": "code",
      "metadata": {
        "colab": {
          "base_uri": "https://localhost:8080/"
        },
        "id": "luPt4RwqBw_8",
        "outputId": "f08438de-02db-46e9-c9c9-8e494aef09d8"
      },
      "source": [
        "square < triangle"
      ],
      "execution_count": 82,
      "outputs": [
        {
          "output_type": "execute_result",
          "data": {
            "text/plain": [
              "False"
            ]
          },
          "metadata": {
            "tags": []
          },
          "execution_count": 82
        }
      ]
    },
    {
      "cell_type": "markdown",
      "metadata": {
        "id": "GkZO6rimB91J"
      },
      "source": [
        "# Polygon Sequence"
      ]
    },
    {
      "cell_type": "code",
      "metadata": {
        "id": "NEDbHq1omkdg"
      },
      "source": [
        "pseq = PolygonSequence(20,10)"
      ],
      "execution_count": 87,
      "outputs": []
    },
    {
      "cell_type": "code",
      "metadata": {
        "colab": {
          "base_uri": "https://localhost:8080/"
        },
        "id": "ntKyNjpKCgJc",
        "outputId": "876fe69b-c856-49e0-f088-c600350900fc"
      },
      "source": [
        "pseq.max_efficiency"
      ],
      "execution_count": 91,
      "outputs": [
        {
          "output_type": "execute_result",
          "data": {
            "text/plain": [
              "<bound method PolygonSequence.max_efficiency of A PolygonSequence from 3 to 20 edges of radius 10>"
            ]
          },
          "metadata": {
            "tags": []
          },
          "execution_count": 91
        }
      ]
    },
    {
      "cell_type": "code",
      "metadata": {
        "colab": {
          "base_uri": "https://localhost:8080/"
        },
        "id": "ZuRFpmFJCUsd",
        "outputId": "e7d44566-4747-4622-c7fc-1f660975213e"
      },
      "source": [
        "pseq[12]"
      ],
      "execution_count": 89,
      "outputs": [
        {
          "output_type": "execute_result",
          "data": {
            "text/plain": [
              "A Regular Strictly Convex Polygon of 15 edges and radius 10"
            ]
          },
          "metadata": {
            "tags": []
          },
          "execution_count": 89
        }
      ]
    },
    {
      "cell_type": "code",
      "metadata": {
        "colab": {
          "base_uri": "https://localhost:8080/"
        },
        "id": "l1nwlOXMmxZC",
        "outputId": "b1d28b32-49eb-4df7-963f-6a7813e4a169"
      },
      "source": [
        "pseq[0:4]"
      ],
      "execution_count": 88,
      "outputs": [
        {
          "output_type": "execute_result",
          "data": {
            "text/plain": [
              "[A Regular Strictly Convex Polygon of 3 edges and radius 10,\n",
              " A Regular Strictly Convex Polygon of 4 edges and radius 10,\n",
              " A Regular Strictly Convex Polygon of 5 edges and radius 10,\n",
              " A Regular Strictly Convex Polygon of 6 edges and radius 10]"
            ]
          },
          "metadata": {
            "tags": []
          },
          "execution_count": 88
        }
      ]
    },
    {
      "cell_type": "code",
      "metadata": {
        "colab": {
          "base_uri": "https://localhost:8080/"
        },
        "id": "Dc8IErOhCSy0",
        "outputId": "c96ccf55-8bd1-4cc0-dd84-7737ce2d1198"
      },
      "source": [
        "pseq[2:15:2]"
      ],
      "execution_count": 90,
      "outputs": [
        {
          "output_type": "execute_result",
          "data": {
            "text/plain": [
              "[A Regular Strictly Convex Polygon of 5 edges and radius 10,\n",
              " A Regular Strictly Convex Polygon of 7 edges and radius 10,\n",
              " A Regular Strictly Convex Polygon of 9 edges and radius 10,\n",
              " A Regular Strictly Convex Polygon of 11 edges and radius 10,\n",
              " A Regular Strictly Convex Polygon of 13 edges and radius 10,\n",
              " A Regular Strictly Convex Polygon of 15 edges and radius 10,\n",
              " A Regular Strictly Convex Polygon of 17 edges and radius 10]"
            ]
          },
          "metadata": {
            "tags": []
          },
          "execution_count": 90
        }
      ]
    }
  ]
}