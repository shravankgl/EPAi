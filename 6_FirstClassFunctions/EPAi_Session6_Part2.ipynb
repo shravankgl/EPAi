{
  "nbformat": 4,
  "nbformat_minor": 0,
  "metadata": {
    "colab": {
      "name": "EPAi-Session6-Part2.ipynb",
      "provenance": []
    },
    "kernelspec": {
      "name": "python3",
      "display_name": "Python 3"
    },
    "language_info": {
      "name": "python"
    }
  },
  "cells": [
    {
      "cell_type": "code",
      "metadata": {
        "id": "r4hx5WUfbU7x"
      },
      "source": [
        "from part2 import *"
      ],
      "execution_count": 1,
      "outputs": []
    },
    {
      "cell_type": "markdown",
      "metadata": {
        "id": "GKU2bK8ebZD_"
      },
      "source": [
        "1.1) Print first 30 Fibonacci Numbers"
      ]
    },
    {
      "cell_type": "code",
      "metadata": {
        "colab": {
          "base_uri": "https://localhost:8080/"
        },
        "id": "A5XhZQl9aa-V",
        "outputId": "cb0a3dc2-f40b-4ffb-9f7b-77bf0a3a0fe0"
      },
      "source": [
        "from part2 import fib_series\n",
        "fib_list = fib_series(30)\n",
        "print(*fib_list)"
      ],
      "execution_count": 2,
      "outputs": [
        {
          "output_type": "stream",
          "text": [
            "0 1 1 2 3 5 8 13 21 34 55 89 144 233 377 610 987 1597 2584 4181 6765 10946 17711 28657 46368 75025 121393 196418 317811 514229\n"
          ],
          "name": "stdout"
        }
      ]
    },
    {
      "cell_type": "markdown",
      "metadata": {
        "id": "d3sShuBTbvQ2"
      },
      "source": [
        "1.2) Check if a number is Fibonacci"
      ]
    },
    {
      "cell_type": "code",
      "metadata": {
        "colab": {
          "base_uri": "https://localhost:8080/"
        },
        "id": "daHzfAZIcDwv",
        "outputId": "70d66c24-1fba-4ee9-fd17-8965b2988f57"
      },
      "source": [
        "from part2 import isFibonacci\n",
        "\n",
        "print(isFibonacci(2))\n",
        "print(isFibonacci(100))"
      ],
      "execution_count": 2,
      "outputs": [
        {
          "output_type": "stream",
          "text": [
            "True\n",
            "False\n"
          ],
          "name": "stdout"
        }
      ]
    },
    {
      "cell_type": "markdown",
      "metadata": {
        "id": "LSQ93JbdcLTj"
      },
      "source": [
        "1.3) Filter Fibonacci in List"
      ]
    },
    {
      "cell_type": "code",
      "metadata": {
        "colab": {
          "base_uri": "https://localhost:8080/"
        },
        "id": "JgQEt6KicQzZ",
        "outputId": "c85aeefe-5d05-4248-ac46-fca8697cb061"
      },
      "source": [
        "import part2\n",
        "from part2 import filterFibonacciInList\n",
        "\n",
        "l = [1,2,3,4,6,55,67,99,144]\n",
        "result = filterFibonacciInList(l)\n",
        "print(*result)"
      ],
      "execution_count": 3,
      "outputs": [
        {
          "output_type": "stream",
          "text": [
            "1 2 3 55 144\n"
          ],
          "name": "stdout"
        }
      ]
    },
    {
      "cell_type": "markdown",
      "metadata": {
        "id": "uzWiIFa7g_aq"
      },
      "source": [
        "2.1) add 2 iterables a and b such that a is even and b is odd"
      ]
    },
    {
      "cell_type": "code",
      "metadata": {
        "colab": {
          "base_uri": "https://localhost:8080/"
        },
        "id": "EWZFhMKEhzWG",
        "outputId": "0d32232d-18db-41e3-829b-dd04ebcab047"
      },
      "source": [
        "import random\n",
        "from part2 import addEvenOdd\n",
        "\n",
        "l1 = random.sample(range(100), 10)\n",
        "l2 = random.sample(range(100), 10)\n",
        "print(f\"l1={l1}\")\n",
        "print(f\"l2={l2}\")\n",
        "\n",
        "result = addEvenOdd(l1,l2)\n",
        "print(f\"result={result}\")\n"
      ],
      "execution_count": 1,
      "outputs": [
        {
          "output_type": "stream",
          "text": [
            "l1=[65, 11, 44, 10, 75, 38, 80, 61, 52, 49]\n",
            "l2=[42, 89, 0, 98, 53, 70, 39, 90, 84, 21]\n",
            "result=[133, 63, 77, 101]\n"
          ],
          "name": "stdout"
        }
      ]
    },
    {
      "cell_type": "markdown",
      "metadata": {
        "id": "uKDq0Dgblxpr"
      },
      "source": [
        "2.2) Strip vowels in string"
      ]
    },
    {
      "cell_type": "code",
      "metadata": {
        "colab": {
          "base_uri": "https://localhost:8080/"
        },
        "id": "A2fNVYeMl1W2",
        "outputId": "df4997ee-853c-471d-c5fa-471e0a44308a"
      },
      "source": [
        "from part2 import removeVowel\n",
        "\n",
        "str = 'I love python'\n",
        "str2 = \"Hello World\"\n",
        "\n",
        "print(removeVowel(str))\n",
        "print(removeVowel(str2))"
      ],
      "execution_count": 1,
      "outputs": [
        {
          "output_type": "stream",
          "text": [
            " lv pythn\n",
            "Hll Wrld\n"
          ],
          "name": "stdout"
        }
      ]
    },
    {
      "cell_type": "markdown",
      "metadata": {
        "id": "84IoWjerpMFx"
      },
      "source": [
        "2.3) Sigmoid Function"
      ]
    },
    {
      "cell_type": "code",
      "metadata": {
        "colab": {
          "base_uri": "https://localhost:8080/"
        },
        "id": "CzQi02sCpOsN",
        "outputId": "8ba70eb6-6d5e-4c10-ceae-9e465a38c42e"
      },
      "source": [
        "import numpy as np\n",
        "from part2 import sigmoid\n",
        "\n",
        "weights = np.random.random_sample((5,))\n",
        "\n",
        "print(weights)\n",
        "print(sigmoid(weights))"
      ],
      "execution_count": 7,
      "outputs": [
        {
          "output_type": "stream",
          "text": [
            "[0.81599094 0.70170153 0.83789134 0.51871552 0.98608083]\n",
            "[0.69, 0.67, 0.7, 0.63, 0.73]\n"
          ],
          "name": "stdout"
        }
      ]
    },
    {
      "cell_type": "markdown",
      "metadata": {
        "id": "Kf3r_NYqrEeg"
      },
      "source": [
        "2.4) Charachter Shift Encoder"
      ]
    },
    {
      "cell_type": "code",
      "metadata": {
        "colab": {
          "base_uri": "https://localhost:8080/"
        },
        "id": "pZQ5BqLirDeE",
        "outputId": "5fc4bb9b-7086-4cea-8c6a-5cb655dae0fc"
      },
      "source": [
        "from part2 import shiftEncoder\n",
        "\n",
        "str = 'tsai'\n",
        "print(shiftEncoder(str))"
      ],
      "execution_count": 23,
      "outputs": [
        {
          "output_type": "stream",
          "text": [
            "yxfn\n"
          ],
          "name": "stdout"
        }
      ]
    },
    {
      "cell_type": "code",
      "metadata": {
        "colab": {
          "base_uri": "https://localhost:8080/",
          "height": 316
        },
        "id": "DT1fCX4du0fb",
        "outputId": "29a8b180-3b94-4eb0-c09a-5b67558b65a8"
      },
      "source": [
        "# Only Alphabets allowed\n",
        "str2 = 'tsai1'\n",
        "print(shiftEncoder(str2))"
      ],
      "execution_count": 25,
      "outputs": [
        {
          "output_type": "error",
          "ename": "ValueError",
          "evalue": "ignored",
          "traceback": [
            "\u001b[0;31m---------------------------------------------------------------------------\u001b[0m",
            "\u001b[0;31mValueError\u001b[0m                                Traceback (most recent call last)",
            "\u001b[0;32m<ipython-input-25-f43b6404f3dd>\u001b[0m in \u001b[0;36m<module>\u001b[0;34m()\u001b[0m\n\u001b[1;32m      1\u001b[0m \u001b[0mstr2\u001b[0m \u001b[0;34m=\u001b[0m \u001b[0;34m'tsai1'\u001b[0m\u001b[0;34m\u001b[0m\u001b[0;34m\u001b[0m\u001b[0m\n\u001b[1;32m      2\u001b[0m \u001b[0;34m\u001b[0m\u001b[0m\n\u001b[0;32m----> 3\u001b[0;31m \u001b[0mprint\u001b[0m\u001b[0;34m(\u001b[0m\u001b[0mshiftEncoder\u001b[0m\u001b[0;34m(\u001b[0m\u001b[0mstr2\u001b[0m\u001b[0;34m)\u001b[0m\u001b[0;34m)\u001b[0m\u001b[0;34m\u001b[0m\u001b[0;34m\u001b[0m\u001b[0m\n\u001b[0m",
            "\u001b[0;32m<ipython-input-23-cc11426d0420>\u001b[0m in \u001b[0;36mshiftEncoder\u001b[0;34m(str)\u001b[0m\n\u001b[1;32m      4\u001b[0m \u001b[0;32mdef\u001b[0m \u001b[0mshiftEncoder\u001b[0m\u001b[0;34m(\u001b[0m\u001b[0mstr\u001b[0m\u001b[0;34m)\u001b[0m\u001b[0;34m:\u001b[0m\u001b[0;34m\u001b[0m\u001b[0;34m\u001b[0m\u001b[0m\n\u001b[1;32m      5\u001b[0m     \u001b[0;32mif\u001b[0m\u001b[0;34m(\u001b[0m\u001b[0;32mnot\u001b[0m \u001b[0mstr\u001b[0m\u001b[0;34m.\u001b[0m\u001b[0misalpha\u001b[0m\u001b[0;34m(\u001b[0m\u001b[0;34m)\u001b[0m\u001b[0;34m)\u001b[0m\u001b[0;34m:\u001b[0m\u001b[0;34m\u001b[0m\u001b[0;34m\u001b[0m\u001b[0m\n\u001b[0;32m----> 6\u001b[0;31m         \u001b[0;32mraise\u001b[0m \u001b[0mValueError\u001b[0m\u001b[0;34m(\u001b[0m\u001b[0;34m\"Only alphabets allowed\"\u001b[0m\u001b[0;34m)\u001b[0m\u001b[0;34m\u001b[0m\u001b[0;34m\u001b[0m\u001b[0m\n\u001b[0m\u001b[1;32m      7\u001b[0m     \u001b[0;32mif\u001b[0m\u001b[0;34m(\u001b[0m\u001b[0;32mnot\u001b[0m \u001b[0mstr\u001b[0m\u001b[0;34m.\u001b[0m\u001b[0mislower\u001b[0m\u001b[0;34m(\u001b[0m\u001b[0;34m)\u001b[0m\u001b[0;34m)\u001b[0m\u001b[0;34m:\u001b[0m\u001b[0;34m\u001b[0m\u001b[0;34m\u001b[0m\u001b[0m\n\u001b[1;32m      8\u001b[0m         \u001b[0;32mraise\u001b[0m \u001b[0mValueError\u001b[0m\u001b[0;34m(\u001b[0m\u001b[0;34m\"Only lower case allowed\"\u001b[0m\u001b[0;34m)\u001b[0m\u001b[0;34m\u001b[0m\u001b[0;34m\u001b[0m\u001b[0m\n",
            "\u001b[0;31mValueError\u001b[0m: Only alphabets allowed"
          ]
        }
      ]
    },
    {
      "cell_type": "code",
      "metadata": {
        "colab": {
          "base_uri": "https://localhost:8080/",
          "height": 299
        },
        "id": "izvNhFoFvA11",
        "outputId": "63fa63d8-0f3d-4955-a575-7a247f5d998e"
      },
      "source": [
        "# Only lower case allowed\n",
        "str3 = 'Tsai'\n",
        "print(shiftEncoder(str3))"
      ],
      "execution_count": 26,
      "outputs": [
        {
          "output_type": "error",
          "ename": "ValueError",
          "evalue": "ignored",
          "traceback": [
            "\u001b[0;31m---------------------------------------------------------------------------\u001b[0m",
            "\u001b[0;31mValueError\u001b[0m                                Traceback (most recent call last)",
            "\u001b[0;32m<ipython-input-26-3264c5020e26>\u001b[0m in \u001b[0;36m<module>\u001b[0;34m()\u001b[0m\n\u001b[1;32m      1\u001b[0m \u001b[0mstr3\u001b[0m \u001b[0;34m=\u001b[0m \u001b[0;34m'Tsai'\u001b[0m\u001b[0;34m\u001b[0m\u001b[0;34m\u001b[0m\u001b[0m\n\u001b[0;32m----> 2\u001b[0;31m \u001b[0mprint\u001b[0m\u001b[0;34m(\u001b[0m\u001b[0mshiftEncoder\u001b[0m\u001b[0;34m(\u001b[0m\u001b[0mstr3\u001b[0m\u001b[0;34m)\u001b[0m\u001b[0;34m)\u001b[0m\u001b[0;34m\u001b[0m\u001b[0;34m\u001b[0m\u001b[0m\n\u001b[0m",
            "\u001b[0;32m<ipython-input-23-cc11426d0420>\u001b[0m in \u001b[0;36mshiftEncoder\u001b[0;34m(str)\u001b[0m\n\u001b[1;32m      6\u001b[0m         \u001b[0;32mraise\u001b[0m \u001b[0mValueError\u001b[0m\u001b[0;34m(\u001b[0m\u001b[0;34m\"Only alphabets allowed\"\u001b[0m\u001b[0;34m)\u001b[0m\u001b[0;34m\u001b[0m\u001b[0;34m\u001b[0m\u001b[0m\n\u001b[1;32m      7\u001b[0m     \u001b[0;32mif\u001b[0m\u001b[0;34m(\u001b[0m\u001b[0;32mnot\u001b[0m \u001b[0mstr\u001b[0m\u001b[0;34m.\u001b[0m\u001b[0mislower\u001b[0m\u001b[0;34m(\u001b[0m\u001b[0;34m)\u001b[0m\u001b[0;34m)\u001b[0m\u001b[0;34m:\u001b[0m\u001b[0;34m\u001b[0m\u001b[0;34m\u001b[0m\u001b[0m\n\u001b[0;32m----> 8\u001b[0;31m         \u001b[0;32mraise\u001b[0m \u001b[0mValueError\u001b[0m\u001b[0;34m(\u001b[0m\u001b[0;34m\"Only lower case allowed\"\u001b[0m\u001b[0;34m)\u001b[0m\u001b[0;34m\u001b[0m\u001b[0;34m\u001b[0m\u001b[0m\n\u001b[0m\u001b[1;32m      9\u001b[0m     \u001b[0;32mreturn\u001b[0m \u001b[0;34m\"\"\u001b[0m\u001b[0;34m.\u001b[0m\u001b[0mjoin\u001b[0m\u001b[0;34m(\u001b[0m\u001b[0;34m[\u001b[0m\u001b[0mchr\u001b[0m\u001b[0;34m(\u001b[0m\u001b[0mint\u001b[0m\u001b[0;34m(\u001b[0m\u001b[0;34m(\u001b[0m\u001b[0mord\u001b[0m\u001b[0;34m(\u001b[0m\u001b[0mi\u001b[0m\u001b[0;34m)\u001b[0m \u001b[0;34m+\u001b[0m \u001b[0;36m5\u001b[0m \u001b[0;34m-\u001b[0m \u001b[0;36m97\u001b[0m\u001b[0;34m)\u001b[0m\u001b[0;34m%\u001b[0m\u001b[0;36m26\u001b[0m \u001b[0;34m)\u001b[0m\u001b[0;34m+\u001b[0m\u001b[0;36m97\u001b[0m\u001b[0;34m)\u001b[0m \u001b[0;32mfor\u001b[0m \u001b[0mi\u001b[0m \u001b[0;32min\u001b[0m \u001b[0mstr\u001b[0m\u001b[0;34m]\u001b[0m\u001b[0;34m)\u001b[0m\u001b[0;34m\u001b[0m\u001b[0;34m\u001b[0m\u001b[0m\n\u001b[1;32m     10\u001b[0m \u001b[0;34m\u001b[0m\u001b[0m\n",
            "\u001b[0;31mValueError\u001b[0m: Only lower case allowed"
          ]
        }
      ]
    },
    {
      "cell_type": "markdown",
      "metadata": {
        "id": "0n9gbKsJxTnC"
      },
      "source": [
        "3) Find censor words in given paragraph"
      ]
    },
    {
      "cell_type": "code",
      "metadata": {
        "colab": {
          "base_uri": "https://localhost:8080/"
        },
        "id": "-TVdnYNysEk_",
        "outputId": "46be2a6d-5cae-40fb-d26f-6b83fad0030b"
      },
      "source": [
        "from part2 import findBadWords\n",
        "\n",
        "url = \"https://raw.githubusercontent.com/RobertJGabriel/Google-profanity-words/master/list.txt\"\n",
        "\n",
        "paragraph = \"\"\"\n",
        "  I haven't bailed on writing. Look, I'm generating a random paragraph at this very moment in an attempt to get my writing back on track. \n",
        "  I am making an effort. I will start writing consistently again!\n",
        "  He sat staring at the person in the train stopped at the station going in the opposite direction. \n",
        "  She sat staring ahead, never noticing that she was being watched. Both trains began to move and he knew that in another timeline or in another universe, they had been happy together.\n",
        "  Damn was it enough? That was the question he kept asking himself. Was being satisfied enough? \n",
        "  He looked around him at everyone yearning to just be satisfied in their daily life and he had reached that goal. He knew that he was satisfied and he also knew it wasn't going to be enough.\n",
        "  She patiently waited for his number to be called. She had no desire to be there, but her mom had insisted that she go. She's resisted at first, but over time she realized it was simply easier to appease her and go. Mom tended to be that way. She would keep insisting until you wore down and did what she wanted. So, here she sat, patiently waiting for her number to be called.\n",
        "\"\"\"\n",
        "\n",
        "findBadWords(paragraph,url)"
      ],
      "execution_count": 2,
      "outputs": [
        {
          "output_type": "execute_result",
          "data": {
            "text/plain": [
              "['damn']"
            ]
          },
          "metadata": {
            "tags": []
          },
          "execution_count": 2
        }
      ]
    },
    {
      "cell_type": "markdown",
      "metadata": {
        "id": "hQXNAwZ57rgx"
      },
      "source": [
        "4.1)add only even numbers in a list"
      ]
    },
    {
      "cell_type": "code",
      "metadata": {
        "colab": {
          "base_uri": "https://localhost:8080/"
        },
        "id": "0aUD7H8H6Qj5",
        "outputId": "7bbdd77f-6cbf-43ed-eb79-3f01fc98c166"
      },
      "source": [
        "import random\n",
        "from part2 import addEvenNumbers\n",
        "\n",
        "l = random.sample(range(100), 10)\n",
        "print(l)\n",
        "result = addEvenNumbers(l)\n",
        "print(result)"
      ],
      "execution_count": 3,
      "outputs": [
        {
          "output_type": "stream",
          "text": [
            "[24, 64, 96, 35, 54, 13, 59, 63, 77, 25]\n",
            "238\n"
          ],
          "name": "stdout"
        }
      ]
    },
    {
      "cell_type": "markdown",
      "metadata": {
        "id": "6xNOR5RP86TA"
      },
      "source": [
        "4.2) Find biggest character"
      ]
    },
    {
      "cell_type": "code",
      "metadata": {
        "colab": {
          "base_uri": "https://localhost:8080/"
        },
        "id": "tdsnXSjT9AvU",
        "outputId": "a2e3e25f-ddc7-4eb1-ff5a-3bf1b1f220d5"
      },
      "source": [
        "from part2 import findBiggestCharacter\n",
        "\n",
        "str = \"HelloWorld\"\n",
        "print(findBiggestCharacter(str))"
      ],
      "execution_count": 1,
      "outputs": [
        {
          "output_type": "stream",
          "text": [
            "w\n"
          ],
          "name": "stdout"
        }
      ]
    },
    {
      "cell_type": "markdown",
      "metadata": {
        "id": "pAYtK5JT_CBW"
      },
      "source": [
        "4.3) Add Third Number in list"
      ]
    },
    {
      "cell_type": "code",
      "metadata": {
        "colab": {
          "base_uri": "https://localhost:8080/"
        },
        "id": "QjL42pXU93-I",
        "outputId": "66a82916-09aa-443a-f64e-e5be048f02b2"
      },
      "source": [
        "import random\n",
        "from functools import reduce\n",
        "from part2 import addThirdNumber\n",
        "\n",
        "l = random.sample(range(100), 10)\n",
        "print(l)\n",
        "\n",
        "print(addThirdNumber(l))"
      ],
      "execution_count": 1,
      "outputs": [
        {
          "output_type": "stream",
          "text": [
            "[4, 30, 74, 28, 58, 54, 70, 63, 33, 78]\n",
            "161\n"
          ],
          "name": "stdout"
        }
      ]
    },
    {
      "cell_type": "markdown",
      "metadata": {
        "id": "dS9hPvbJASQc"
      },
      "source": [
        "5) Generate Random number plate"
      ]
    },
    {
      "cell_type": "code",
      "metadata": {
        "colab": {
          "base_uri": "https://localhost:8080/"
        },
        "id": "hFqO1i9R-rMo",
        "outputId": "f5a46448-f6a0-4876-8a40-f2d5ae5ddd08"
      },
      "source": [
        "from part2 import generateNumberPlates\n",
        "\n",
        "print(generateNumberPlates(15))"
      ],
      "execution_count": 1,
      "outputs": [
        {
          "output_type": "stream",
          "text": [
            "['KA23MW3312', 'KA75JS9211', 'KA82WK1458', 'KA14WC2545', 'KA47IA4509', 'KA33RS4795', 'KA79ZR4640', 'KA24KA3725', 'KA29AZ8729', 'KA18HS5708', 'KA22BN6516', 'KA99XN9091', 'KA28QN6342', 'KA76TC4112', 'KA90FD2961']\n"
          ],
          "name": "stdout"
        }
      ]
    },
    {
      "cell_type": "markdown",
      "metadata": {
        "id": "d855hfps8__I"
      },
      "source": [
        "6) Number Plate Partial Function"
      ]
    },
    {
      "cell_type": "code",
      "metadata": {
        "colab": {
          "base_uri": "https://localhost:8080/"
        },
        "id": "UUQrr5BOCiX1",
        "outputId": "b36a3392-64e0-4de1-bc17-a62e3ba6ef94"
      },
      "source": [
        "import random\n",
        "from functools import partial\n",
        "from part2 import generateNumberPlatesOption\n",
        "\n",
        "generateNumberPlatesPartial = partial(generateNumberPlatesOption,start = 2222,end = 3333)\n",
        "print(generateNumberPlatesPartial('KA'))"
      ],
      "execution_count": 2,
      "outputs": [
        {
          "output_type": "stream",
          "text": [
            "['KA88MP2230', 'KA68MX2924', 'KA52FH2761', 'KA83ND3327', 'KA33FY2396', 'KA13ST2795', 'KA75IW2294', 'KA34VA2491', 'KA65TK3309', 'KA88KM3296', 'KA77NQ3038', 'KA16EP2877', 'KA98KA2954', 'KA93RX2395', 'KA20RD3041']\n"
          ],
          "name": "stdout"
        }
      ]
    }
  ]
}