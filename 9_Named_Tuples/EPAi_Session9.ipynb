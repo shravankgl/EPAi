{
  "nbformat": 4,
  "nbformat_minor": 0,
  "metadata": {
    "colab": {
      "name": "EPAi Session9.ipynb",
      "provenance": []
    },
    "kernelspec": {
      "name": "python3",
      "display_name": "Python 3"
    },
    "language_info": {
      "name": "python"
    }
  },
  "cells": [
    {
      "cell_type": "code",
      "metadata": {
        "colab": {
          "base_uri": "https://localhost:8080/"
        },
        "id": "lyNRH0QTegZD",
        "outputId": "9758455a-d882-4acc-bcac-5f87ae89c59d"
      },
      "source": [
        "#Install faker package\n",
        "\n",
        "pip install Faker"
      ],
      "execution_count": 2,
      "outputs": [
        {
          "output_type": "stream",
          "text": [
            "Collecting Faker\n",
            "\u001b[?25l  Downloading https://files.pythonhosted.org/packages/e4/be/d03e305f1d879f541c23d586023ec11b124d6cc3d75a95159470754134d9/Faker-8.10.0-py3-none-any.whl (1.2MB)\n",
            "\r\u001b[K     |▎                               | 10kB 19.2MB/s eta 0:00:01\r\u001b[K     |▋                               | 20kB 24.9MB/s eta 0:00:01\r\u001b[K     |▉                               | 30kB 17.6MB/s eta 0:00:01\r\u001b[K     |█▏                              | 40kB 15.1MB/s eta 0:00:01\r\u001b[K     |█▍                              | 51kB 9.0MB/s eta 0:00:01\r\u001b[K     |█▊                              | 61kB 9.2MB/s eta 0:00:01\r\u001b[K     |██                              | 71kB 9.8MB/s eta 0:00:01\r\u001b[K     |██▎                             | 81kB 8.9MB/s eta 0:00:01\r\u001b[K     |██▌                             | 92kB 9.2MB/s eta 0:00:01\r\u001b[K     |██▉                             | 102kB 9.8MB/s eta 0:00:01\r\u001b[K     |███                             | 112kB 9.8MB/s eta 0:00:01\r\u001b[K     |███▍                            | 122kB 9.8MB/s eta 0:00:01\r\u001b[K     |███▋                            | 133kB 9.8MB/s eta 0:00:01\r\u001b[K     |████                            | 143kB 9.8MB/s eta 0:00:01\r\u001b[K     |████▏                           | 153kB 9.8MB/s eta 0:00:01\r\u001b[K     |████▌                           | 163kB 9.8MB/s eta 0:00:01\r\u001b[K     |████▊                           | 174kB 9.8MB/s eta 0:00:01\r\u001b[K     |█████                           | 184kB 9.8MB/s eta 0:00:01\r\u001b[K     |█████▎                          | 194kB 9.8MB/s eta 0:00:01\r\u001b[K     |█████▋                          | 204kB 9.8MB/s eta 0:00:01\r\u001b[K     |█████▉                          | 215kB 9.8MB/s eta 0:00:01\r\u001b[K     |██████▏                         | 225kB 9.8MB/s eta 0:00:01\r\u001b[K     |██████▍                         | 235kB 9.8MB/s eta 0:00:01\r\u001b[K     |██████▊                         | 245kB 9.8MB/s eta 0:00:01\r\u001b[K     |███████                         | 256kB 9.8MB/s eta 0:00:01\r\u001b[K     |███████▎                        | 266kB 9.8MB/s eta 0:00:01\r\u001b[K     |███████▌                        | 276kB 9.8MB/s eta 0:00:01\r\u001b[K     |███████▉                        | 286kB 9.8MB/s eta 0:00:01\r\u001b[K     |████████                        | 296kB 9.8MB/s eta 0:00:01\r\u001b[K     |████████▍                       | 307kB 9.8MB/s eta 0:00:01\r\u001b[K     |████████▊                       | 317kB 9.8MB/s eta 0:00:01\r\u001b[K     |█████████                       | 327kB 9.8MB/s eta 0:00:01\r\u001b[K     |█████████▎                      | 337kB 9.8MB/s eta 0:00:01\r\u001b[K     |█████████▌                      | 348kB 9.8MB/s eta 0:00:01\r\u001b[K     |█████████▉                      | 358kB 9.8MB/s eta 0:00:01\r\u001b[K     |██████████                      | 368kB 9.8MB/s eta 0:00:01\r\u001b[K     |██████████▍                     | 378kB 9.8MB/s eta 0:00:01\r\u001b[K     |██████████▋                     | 389kB 9.8MB/s eta 0:00:01\r\u001b[K     |███████████                     | 399kB 9.8MB/s eta 0:00:01\r\u001b[K     |███████████▏                    | 409kB 9.8MB/s eta 0:00:01\r\u001b[K     |███████████▌                    | 419kB 9.8MB/s eta 0:00:01\r\u001b[K     |███████████▊                    | 430kB 9.8MB/s eta 0:00:01\r\u001b[K     |████████████                    | 440kB 9.8MB/s eta 0:00:01\r\u001b[K     |████████████▎                   | 450kB 9.8MB/s eta 0:00:01\r\u001b[K     |████████████▋                   | 460kB 9.8MB/s eta 0:00:01\r\u001b[K     |████████████▉                   | 471kB 9.8MB/s eta 0:00:01\r\u001b[K     |█████████████▏                  | 481kB 9.8MB/s eta 0:00:01\r\u001b[K     |█████████████▍                  | 491kB 9.8MB/s eta 0:00:01\r\u001b[K     |█████████████▊                  | 501kB 9.8MB/s eta 0:00:01\r\u001b[K     |██████████████                  | 512kB 9.8MB/s eta 0:00:01\r\u001b[K     |██████████████▎                 | 522kB 9.8MB/s eta 0:00:01\r\u001b[K     |██████████████▌                 | 532kB 9.8MB/s eta 0:00:01\r\u001b[K     |██████████████▉                 | 542kB 9.8MB/s eta 0:00:01\r\u001b[K     |███████████████                 | 552kB 9.8MB/s eta 0:00:01\r\u001b[K     |███████████████▍                | 563kB 9.8MB/s eta 0:00:01\r\u001b[K     |███████████████▋                | 573kB 9.8MB/s eta 0:00:01\r\u001b[K     |████████████████                | 583kB 9.8MB/s eta 0:00:01\r\u001b[K     |████████████████▏               | 593kB 9.8MB/s eta 0:00:01\r\u001b[K     |████████████████▌               | 604kB 9.8MB/s eta 0:00:01\r\u001b[K     |████████████████▉               | 614kB 9.8MB/s eta 0:00:01\r\u001b[K     |█████████████████               | 624kB 9.8MB/s eta 0:00:01\r\u001b[K     |█████████████████▍              | 634kB 9.8MB/s eta 0:00:01\r\u001b[K     |█████████████████▋              | 645kB 9.8MB/s eta 0:00:01\r\u001b[K     |██████████████████              | 655kB 9.8MB/s eta 0:00:01\r\u001b[K     |██████████████████▏             | 665kB 9.8MB/s eta 0:00:01\r\u001b[K     |██████████████████▌             | 675kB 9.8MB/s eta 0:00:01\r\u001b[K     |██████████████████▊             | 686kB 9.8MB/s eta 0:00:01\r\u001b[K     |███████████████████             | 696kB 9.8MB/s eta 0:00:01\r\u001b[K     |███████████████████▎            | 706kB 9.8MB/s eta 0:00:01\r\u001b[K     |███████████████████▋            | 716kB 9.8MB/s eta 0:00:01\r\u001b[K     |███████████████████▉            | 727kB 9.8MB/s eta 0:00:01\r\u001b[K     |████████████████████▏           | 737kB 9.8MB/s eta 0:00:01\r\u001b[K     |████████████████████▍           | 747kB 9.8MB/s eta 0:00:01\r\u001b[K     |████████████████████▊           | 757kB 9.8MB/s eta 0:00:01\r\u001b[K     |█████████████████████           | 768kB 9.8MB/s eta 0:00:01\r\u001b[K     |█████████████████████▎          | 778kB 9.8MB/s eta 0:00:01\r\u001b[K     |█████████████████████▌          | 788kB 9.8MB/s eta 0:00:01\r\u001b[K     |█████████████████████▉          | 798kB 9.8MB/s eta 0:00:01\r\u001b[K     |██████████████████████          | 808kB 9.8MB/s eta 0:00:01\r\u001b[K     |██████████████████████▍         | 819kB 9.8MB/s eta 0:00:01\r\u001b[K     |██████████████████████▋         | 829kB 9.8MB/s eta 0:00:01\r\u001b[K     |███████████████████████         | 839kB 9.8MB/s eta 0:00:01\r\u001b[K     |███████████████████████▏        | 849kB 9.8MB/s eta 0:00:01\r\u001b[K     |███████████████████████▌        | 860kB 9.8MB/s eta 0:00:01\r\u001b[K     |███████████████████████▊        | 870kB 9.8MB/s eta 0:00:01\r\u001b[K     |████████████████████████        | 880kB 9.8MB/s eta 0:00:01\r\u001b[K     |████████████████████████▎       | 890kB 9.8MB/s eta 0:00:01\r\u001b[K     |████████████████████████▋       | 901kB 9.8MB/s eta 0:00:01\r\u001b[K     |████████████████████████▉       | 911kB 9.8MB/s eta 0:00:01\r\u001b[K     |█████████████████████████▏      | 921kB 9.8MB/s eta 0:00:01\r\u001b[K     |█████████████████████████▌      | 931kB 9.8MB/s eta 0:00:01\r\u001b[K     |█████████████████████████▊      | 942kB 9.8MB/s eta 0:00:01\r\u001b[K     |██████████████████████████      | 952kB 9.8MB/s eta 0:00:01\r\u001b[K     |██████████████████████████▎     | 962kB 9.8MB/s eta 0:00:01\r\u001b[K     |██████████████████████████▋     | 972kB 9.8MB/s eta 0:00:01\r\u001b[K     |██████████████████████████▉     | 983kB 9.8MB/s eta 0:00:01\r\u001b[K     |███████████████████████████▏    | 993kB 9.8MB/s eta 0:00:01\r\u001b[K     |███████████████████████████▍    | 1.0MB 9.8MB/s eta 0:00:01\r\u001b[K     |███████████████████████████▊    | 1.0MB 9.8MB/s eta 0:00:01\r\u001b[K     |████████████████████████████    | 1.0MB 9.8MB/s eta 0:00:01\r\u001b[K     |████████████████████████████▎   | 1.0MB 9.8MB/s eta 0:00:01\r\u001b[K     |████████████████████████████▌   | 1.0MB 9.8MB/s eta 0:00:01\r\u001b[K     |████████████████████████████▉   | 1.1MB 9.8MB/s eta 0:00:01\r\u001b[K     |█████████████████████████████   | 1.1MB 9.8MB/s eta 0:00:01\r\u001b[K     |█████████████████████████████▍  | 1.1MB 9.8MB/s eta 0:00:01\r\u001b[K     |█████████████████████████████▋  | 1.1MB 9.8MB/s eta 0:00:01\r\u001b[K     |██████████████████████████████  | 1.1MB 9.8MB/s eta 0:00:01\r\u001b[K     |██████████████████████████████▏ | 1.1MB 9.8MB/s eta 0:00:01\r\u001b[K     |██████████████████████████████▌ | 1.1MB 9.8MB/s eta 0:00:01\r\u001b[K     |██████████████████████████████▊ | 1.1MB 9.8MB/s eta 0:00:01\r\u001b[K     |███████████████████████████████ | 1.1MB 9.8MB/s eta 0:00:01\r\u001b[K     |███████████████████████████████▎| 1.1MB 9.8MB/s eta 0:00:01\r\u001b[K     |███████████████████████████████▋| 1.2MB 9.8MB/s eta 0:00:01\r\u001b[K     |███████████████████████████████▉| 1.2MB 9.8MB/s eta 0:00:01\r\u001b[K     |████████████████████████████████| 1.2MB 9.8MB/s \n",
            "\u001b[?25hRequirement already satisfied: python-dateutil>=2.4 in /usr/local/lib/python3.7/dist-packages (from Faker) (2.8.1)\n",
            "Requirement already satisfied: text-unidecode==1.3 in /usr/local/lib/python3.7/dist-packages (from Faker) (1.3)\n",
            "Requirement already satisfied: six>=1.5 in /usr/local/lib/python3.7/dist-packages (from python-dateutil>=2.4->Faker) (1.15.0)\n",
            "Installing collected packages: Faker\n",
            "Successfully installed Faker-8.10.0\n"
          ],
          "name": "stdout"
        }
      ]
    },
    {
      "cell_type": "code",
      "metadata": {
        "id": "36CRRMDHeVMe"
      },
      "source": [
        "#Import session9 module\n",
        "from session9 import *"
      ],
      "execution_count": 235,
      "outputs": []
    },
    {
      "cell_type": "code",
      "metadata": {
        "colab": {
          "base_uri": "https://localhost:8080/"
        },
        "id": "JnaaCm9EqKvx",
        "outputId": "0fd8b236-e54a-46d7-93a5-74b4d2af58fe"
      },
      "source": [
        "#Create list 10000 faker profiles\n",
        "fake_profile_dict =  generate_random_profile(10000)\n",
        "\n",
        "#Check first 5 profiles\n",
        "print(fake_profile_dict[5])"
      ],
      "execution_count": 238,
      "outputs": [
        {
          "output_type": "stream",
          "text": [
            "Execution time for generate_random_profile is 15.253506919998472 sec\n",
            "{'job': 'Systems analyst', 'company': 'Franklin Inc', 'ssn': '370-65-2507', 'residence': '8789 Rhonda Throughway Suite 827\\nPhillipsstad, NE 89769', 'current_location': (Decimal('67.563707'), Decimal('-18.243875')), 'blood_group': 'B+', 'website': ['https://richardson.com/'], 'username': 'edgar16', 'name': 'Maria Bentley', 'sex': 'F', 'address': '096 James Hills Suite 250\\nNorth Jenniferbury, ID 94563', 'mail': 'mossjeffrey@yahoo.com', 'birthdate': datetime.date(1941, 9, 5)}\n"
          ],
          "name": "stdout"
        }
      ]
    },
    {
      "cell_type": "code",
      "metadata": {
        "colab": {
          "base_uri": "https://localhost:8080/"
        },
        "id": "p1pr2CXSssQ0",
        "outputId": "6e79e6ed-1a9a-478b-a511-6b99888db350"
      },
      "source": [
        "#Convert the 10000 faker dictonary to namedtuple\n",
        "fake_profile_tuple = convert_dictionary_to_namedtuple(fake_profile_dict,profile)\n",
        "\n",
        "#Check first 5 profiles\n",
        "print(fake_profile_tuple[5])"
      ],
      "execution_count": 242,
      "outputs": [
        {
          "output_type": "stream",
          "text": [
            "Execution time for convert_dictionary_to_namedtuple is 0.019764788998145377 sec\n",
            "profile(job='Systems analyst', company='Franklin Inc', ssn='370-65-2507', residence='8789 Rhonda Throughway Suite 827\\nPhillipsstad, NE 89769', current_location=(Decimal('67.563707'), Decimal('-18.243875')), blood_group='B+', website=['https://richardson.com/'], username='edgar16', name='Maria Bentley', sex='F', address='096 James Hills Suite 250\\nNorth Jenniferbury, ID 94563', mail='mossjeffrey@yahoo.com', birthdate=datetime.date(1941, 9, 5))\n"
          ],
          "name": "stdout"
        }
      ]
    },
    {
      "cell_type": "code",
      "metadata": {
        "colab": {
          "base_uri": "https://localhost:8080/"
        },
        "id": "SgvbmihlRxtl",
        "outputId": "5c772d12-05c5-4125-d118-6ac6a7d2144b"
      },
      "source": [
        "#Find the demograph values of profiles using dictionary\n",
        "print(demograph(fake_profile_dict,\"dict\"))"
      ],
      "execution_count": 246,
      "outputs": [
        {
          "output_type": "stream",
          "text": [
            "Execution time for demograph is 0.06392330699964077 sec\n",
            "     largest bloodgroup : O- \n",
            "     mean current_location : (Decimal('-0.6120851587'), Decimal('0.8748517679')) \n",
            "     oldest person age : 115 year/s, 11 month/s, 30 day/s \n",
            "     average age : 58 year/s, 2 month/s, 10 day/s \n"
          ],
          "name": "stdout"
        }
      ]
    },
    {
      "cell_type": "code",
      "metadata": {
        "colab": {
          "base_uri": "https://localhost:8080/"
        },
        "id": "18SyZg0eSu5G",
        "outputId": "3f363baa-5323-429b-8e4e-98497c7eea7e"
      },
      "source": [
        "#Find the demograph values of profiles using namedtuples\n",
        "print(demograph(fake_profile_tuple,\"namedtuple\"))"
      ],
      "execution_count": 248,
      "outputs": [
        {
          "output_type": "stream",
          "text": [
            "Execution time for demograph is 0.05892653499904554 sec\n",
            "     largest bloodgroup : O- \n",
            "     mean current_location : (Decimal('-0.6120851587'), Decimal('0.8748517679')) \n",
            "     oldest person age : 115 year/s, 11 month/s, 30 day/s \n",
            "     average age : 58 year/s, 2 month/s, 10 day/s \n"
          ],
          "name": "stdout"
        }
      ]
    },
    {
      "cell_type": "markdown",
      "metadata": {
        "id": "pKLyqrOa4lCA"
      },
      "source": [
        "# Execution time of namedtuples is less than dictionary"
      ]
    },
    {
      "cell_type": "code",
      "metadata": {
        "colab": {
          "base_uri": "https://localhost:8080/"
        },
        "id": "_0Yw8O-ZmoDR",
        "outputId": "b09a9227-3f53-4b4b-c1b2-51d4731d75e7"
      },
      "source": [
        "#Create 100 companies stock\n",
        "stocks = generate_random_stock(100)\n"
      ],
      "execution_count": 255,
      "outputs": [
        {
          "output_type": "stream",
          "text": [
            "Execution time for generate_random_stock is 0.02210019099948113 sec\n"
          ],
          "name": "stdout"
        }
      ]
    },
    {
      "cell_type": "code",
      "metadata": {
        "colab": {
          "base_uri": "https://localhost:8080/"
        },
        "id": "O2NwSMbz3ex1",
        "outputId": "4ff1b9e1-ae4d-412d-f95d-f3eced040487"
      },
      "source": [
        "#generated stock data\n",
        "stocks"
      ],
      "execution_count": 256,
      "outputs": [
        {
          "output_type": "execute_result",
          "data": {
            "text/plain": [
              "[stock(name='Hernandez, Mcdonald and Davis', symbol='HMD', open=8873.130419295681, high=9689.954214737189, close=3117.269950469933),\n",
              " stock(name='Ochoa, Gonzalez and Rice', symbol='OGR', open=6076.612584001563, high=9311.874279418105, close=9311.874279418105),\n",
              " stock(name='Larson, Jordan and Hicks', symbol='LJH', open=11622.24820788684, high=13933.42077144654, close=8660.49178565136),\n",
              " stock(name='Murillo, Greene and Thomas', symbol='MGT', open=6426.18969875129, high=9181.129617563061, close=7470.854438912602),\n",
              " stock(name='Mclaughlin PLC', symbol='MPLC', open=13398.95035678183, high=13825.529991189462, close=12298.274688687648),\n",
              " stock(name='Kerr Inc', symbol='KI', open=1736.995697438055, high=3139.3326193223825, close=2080.759921869746),\n",
              " stock(name='Anderson-Sanders', symbol='AS', open=4132.716155242556, high=7204.589901895559, close=3207.8855296660463),\n",
              " stock(name='Rivera Group', symbol='RG', open=1404.558412621029, high=1848.443365729323, close=1848.443365729323),\n",
              " stock(name='Hicks Ltd', symbol='HL', open=745.5582175526467, high=745.5582175526467, close=307.89302026395603),\n",
              " stock(name='Macias, Love and Leon', symbol='MLL', open=16587.95927689391, high=28988.40997182042, close=28988.40997182042),\n",
              " stock(name='Walker, Brown and Villarreal', symbol='WBV', open=1731.0102957245977, high=3420.129217959645, close=901.538777318953),\n",
              " stock(name='Jones-Newman', symbol='JN', open=11136.55226344328, high=14686.380406825041, close=4244.821835936768),\n",
              " stock(name='Kim-Martin', symbol='KM', open=2763.759615704138, high=3995.85251696956, close=3995.85251696956),\n",
              " stock(name='Dixon, Smith and Rubio', symbol='DSR', open=14281.920912856558, high=19569.84774214624, close=5343.14715242527),\n",
              " stock(name='Hooper Group', symbol='HG', open=12441.192653817134, high=24751.683997959975, close=24751.683997959975),\n",
              " stock(name='Brown PLC', symbol='BPLC', open=3714.2798530179384, high=5380.847014750259, close=3150.3565312769206),\n",
              " stock(name='Mcdaniel PLC', symbol='MPLC', open=2305.8011888908873, high=2305.8011888908873, close=769.8325425896146),\n",
              " stock(name='Jones, Kidd and Cruz', symbol='JKC', open=5768.010085018472, high=9034.690076097757, close=9034.690076097757),\n",
              " stock(name='Sanchez Ltd', symbol='SL', open=15286.416894491778, high=24539.617326302032, close=24539.617326302032),\n",
              " stock(name='Kennedy, Atkins and Mccullough', symbol='KAM', open=8879.679707774842, high=8879.679707774842, close=4446.826205890178),\n",
              " stock(name='Jones Group', symbol='JG', open=10284.504520381408, high=16355.89877530507, close=5983.059096971163),\n",
              " stock(name='Fox, Beck and Jackson', symbol='FBJ', open=1648.3401698735843, high=1928.5548500513878, close=1928.5548500513878),\n",
              " stock(name='Yates and Sons', symbol='YS', open=4116.463137496104, high=7918.022143463101, close=7918.022143463101),\n",
              " stock(name='Osborne-Daniels', symbol='OD', open=4753.655000460281, high=8511.931257194525, close=2688.501138565904),\n",
              " stock(name='Johnson, Barrett and Rodriguez', symbol='JBR', open=1565.5031149587685, high=1565.5031149587685, close=1471.5789295588565),\n",
              " stock(name='Brady Ltd', symbol='BL', open=10919.76780645712, high=11411.359036929947, close=11411.359036929947),\n",
              " stock(name='Berg-Arellano', symbol='BA', open=2942.861682030102, high=4127.269255917605, close=4127.269255917605),\n",
              " stock(name='Nguyen-Morgan', symbol='NM', open=16408.04560428695, high=16408.04560428695, close=15081.501031084641),\n",
              " stock(name='Lyons, Moran and Rios', symbol='LMR', open=13514.0280155197, high=13514.0280155197, close=4879.466316718635),\n",
              " stock(name='Singleton Inc', symbol='SI', open=470.4189484079143, high=470.4189484079143, close=131.96841656030028),\n",
              " stock(name='Larsen LLC', symbol='LLLC', open=8929.098569970312, high=15347.617321298634, close=15347.617321298634),\n",
              " stock(name='Harper, Rogers and Lane', symbol='HRL', open=4494.952581110381, high=8670.95792811089, close=8670.95792811089),\n",
              " stock(name='Flores, Kline and Wade', symbol='FKW', open=22551.488711481423, high=40980.36851169127, close=40980.36851169127),\n",
              " stock(name='Murphy Ltd', symbol='ML', open=5404.5695069835065, high=10360.440150329958, close=3614.1042337622866),\n",
              " stock(name='Drake, Murray and Thompson', symbol='DMT', open=772.5942763620355, high=1470.3185604708742, close=1391.1189283785109),\n",
              " stock(name='Ramos PLC', symbol='RPLC', open=6296.971474399005, high=9112.318345840904, close=6187.845060282013),\n",
              " stock(name='Ortiz, Lawson and Wade', symbol='OLW', open=662.3210920964422, high=1131.6994327314767, close=672.8813076959739),\n",
              " stock(name='Washington, Bonilla and Rice', symbol='WBR', open=489.04993482858197, high=778.0442180898491, close=307.7211814318916),\n",
              " stock(name='Jones-Webster', symbol='JW', open=5142.139907442407, high=7398.849885320698, close=3591.111338707311),\n",
              " stock(name='Horton-Price', symbol='HP', open=7811.775791224262, high=10872.253294349122, close=10872.253294349122),\n",
              " stock(name='Coleman, Chavez and Huber', symbol='CCH', open=8199.455445790687, high=13902.875014601446, close=13064.603311921179),\n",
              " stock(name='Williams-George', symbol='WG', open=118.05204886698608, high=121.82951421919292, close=121.82951421919292),\n",
              " stock(name='Baker-Steele', symbol='BS', open=344.35858161915127, high=459.7157315794033, close=459.7157315794033),\n",
              " stock(name='Lee, Hawkins and Jones', symbol='LHJ', open=6881.016256641948, high=12566.158066372793, close=12566.158066372793),\n",
              " stock(name='Foster, Lewis and Johnson', symbol='FLJ', open=6203.061529326136, high=12109.135319421415, close=4485.557472008356),\n",
              " stock(name='Lewis-Ryan', symbol='LR', open=4347.439539539797, high=5542.292962248246, close=5387.556560137194),\n",
              " stock(name='Armstrong, Cross and Holt', symbol='ACH', open=16571.874368408353, high=21012.014114014164, close=21012.014114014164),\n",
              " stock(name='Harrington, Koch and Henderson', symbol='HKH', open=17379.43276031434, high=32165.459049877358, close=29895.772542173912),\n",
              " stock(name='Bradley PLC', symbol='BPLC', open=8280.594727057964, high=12718.362500778852, close=5164.362715523043),\n",
              " stock(name='Price-Rose', symbol='PR', open=9380.329028936636, high=18310.50106451914, close=6780.609680875153),\n",
              " stock(name='Golden, Ramsey and Reyes', symbol='GRR', open=8696.956030153438, high=16719.67211840026, close=16719.67211840026),\n",
              " stock(name='Nolan Inc', symbol='NI', open=1130.2409690080276, high=1545.0612035574127, close=986.4662318837998),\n",
              " stock(name='Proctor-Smith', symbol='PS', open=1004.1145722057109, high=1452.3428044645104, close=344.99101746243167),\n",
              " stock(name='Anderson Inc', symbol='AI', open=988.7632561626123, high=1481.3194582330907, close=1481.3194582330907),\n",
              " stock(name='Hutchinson, Briggs and Koch', symbol='HBK', open=2294.1182581839644, high=3567.3268750094285, close=3567.3268750094285),\n",
              " stock(name='Shaw, Hill and Shea', symbol='SHS', open=361.17586257986073, high=680.8752905103385, close=101.26212475822018),\n",
              " stock(name='Smith, Jones and Cisneros', symbol='SJC', open=2709.1695919997496, high=5305.578978673283, close=5211.84245672311),\n",
              " stock(name='Ball, Campbell and Sullivan', symbol='BCS', open=695.8456817842155, high=1335.7841572043314, close=1335.7841572043314),\n",
              " stock(name='Ramirez, Stone and Bush', symbol='RSB', open=108.67209418858118, high=108.67209418858118, close=61.31629739894373),\n",
              " stock(name='Hess LLC', symbol='HLLC', open=18530.891472081497, high=18530.891472081497, close=12005.484306406914),\n",
              " stock(name='Carter, Walton and Todd', symbol='CWT', open=8913.585136391092, high=16590.456993460997, close=16590.456993460997),\n",
              " stock(name='Cordova-Middleton', symbol='CM', open=11633.376912852518, high=11633.376912852518, close=5703.868533084232),\n",
              " stock(name='Grant PLC', symbol='GPLC', open=2434.480924850696, high=4080.1818622987576, close=4080.1818622987576),\n",
              " stock(name='Herring Group', symbol='HG', open=8589.951424279945, high=13866.521264681274, close=13866.521264681274),\n",
              " stock(name='Chavez-Suarez', symbol='CS', open=4554.278377020703, high=6157.776238269085, close=6157.776238269085),\n",
              " stock(name='Payne-Maldonado', symbol='PM', open=14141.603464364143, high=28031.46722340664, close=28031.46722340664),\n",
              " stock(name='Gilmore PLC', symbol='GPLC', open=6458.096882922183, high=7363.597893852675, close=5191.136944565498),\n",
              " stock(name='Diaz Inc', symbol='DI', open=977.4750725197274, high=977.4750725197274, close=738.7908011319281),\n",
              " stock(name='Leon and Sons', symbol='LS', open=8967.67335090461, high=8967.67335090461, close=5239.495784784497),\n",
              " stock(name='Trujillo PLC', symbol='TPLC', open=2116.0196014048397, high=2116.0196014048397, close=2074.896081011731),\n",
              " stock(name='Craig-Melendez', symbol='CM', open=13386.054151942784, high=24393.163217197354, close=12818.544326282808),\n",
              " stock(name='Wade, Wallace and Lewis', symbol='WWL', open=1968.4553486933262, high=2640.215177664766, close=909.5611383048891),\n",
              " stock(name='Johnson, Wheeler and Stewart', symbol='JWS', open=5578.634413506494, high=8056.828757058441, close=8056.828757058441),\n",
              " stock(name='Andrade-Smith', symbol='AS', open=17480.308069837687, high=26929.976333135033, close=26929.976333135033),\n",
              " stock(name='King-Cannon', symbol='KC', open=11046.758269221551, high=11046.758269221551, close=10671.28886505741),\n",
              " stock(name='Smith-Brown', symbol='SB', open=2221.988190339887, high=4158.174077676789, close=4158.174077676789),\n",
              " stock(name='Gonzalez, Perez and Erickson', symbol='GPE', open=5142.077978764271, high=9511.845636283173, close=5546.944451009448),\n",
              " stock(name='Howell, Ingram and Hardy', symbol='HIH', open=7586.731711515447, high=7586.731711515447, close=3394.5618654665345),\n",
              " stock(name='Kirby, Bolton and Li', symbol='KBL', open=755.5434270121233, high=1239.7543224294109, close=1239.7543224294109),\n",
              " stock(name='Mathews Inc', symbol='MI', open=11546.490565455377, high=16049.009396769938, close=9676.179308109244),\n",
              " stock(name='Martin, Gray and Campbell', symbol='MGC', open=5898.96958372118, high=11476.576647926788, close=7309.85323185279),\n",
              " stock(name='Smith-Garcia', symbol='SG', open=3257.161062694841, high=5970.450899255077, close=1600.0572878466317),\n",
              " stock(name='Scott Ltd', symbol='SL', open=6271.332523539004, high=9897.391332960906, close=9897.391332960906),\n",
              " stock(name='Blair-Ford', symbol='BF', open=9144.283115526332, high=9144.283115526332, close=5935.113247477664),\n",
              " stock(name='Jordan and Sons', symbol='JS', open=9565.71367707803, high=18743.888642813443, close=17928.214909245544),\n",
              " stock(name='Branch-Robinson', symbol='BR', open=10758.838149534884, high=10758.838149534884, close=7425.904623438177),\n",
              " stock(name='Silva LLC', symbol='SLLC', open=1900.43153561083, high=1900.43153561083, close=1892.5370253741942),\n",
              " stock(name='Jones-Thomas', symbol='JT', open=7840.157199419677, high=13093.761073340487, close=13093.761073340487),\n",
              " stock(name='Jones-Davies', symbol='JD', open=20100.122709263273, high=27417.83908798471, close=6278.818733098603),\n",
              " stock(name='Wright PLC', symbol='WPLC', open=9411.782235249833, high=13147.275018522387, close=10839.191912452961),\n",
              " stock(name='Thompson Group', symbol='TG', open=11173.17680341184, high=19687.249318225236, close=19687.249318225236),\n",
              " stock(name='Mendoza-Gonzalez', symbol='MG', open=3248.9828314018264, high=5478.373624210112, close=4440.3133887891745),\n",
              " stock(name='Lambert, Ochoa and Willis', symbol='LOW', open=8432.80265412586, high=8432.80265412586, close=3366.9427333878048),\n",
              " stock(name='Johnson-Park', symbol='JP', open=1808.0592861550394, high=2606.9493897328616, close=1059.0200584762329),\n",
              " stock(name='Hodges, Moreno and Little', symbol='HML', open=21142.615520201285, high=39583.664531726485, close=33431.09897006321),\n",
              " stock(name='Jenkins-Rodriguez', symbol='JR', open=512.1237490290908, high=1013.0497878901191, close=727.8470388219783),\n",
              " stock(name='Sutton, Hawkins and Williams', symbol='SHW', open=9287.56519195682, high=14722.89743062448, close=14722.89743062448),\n",
              " stock(name='Allison-Horton', symbol='AH', open=10758.779923742577, high=14351.731805482603, close=8545.009932376453),\n",
              " stock(name='Anderson-Herring', symbol='AH', open=3.139991642014867, high=3.139991642014867, close=2.716120331624011),\n",
              " stock(name='Solomon, Rogers and Martinez', symbol='SRM', open=1580.1528814704484, high=1580.1528814704484, close=662.2048829412387)]"
            ]
          },
          "metadata": {
            "tags": []
          },
          "execution_count": 256
        }
      ]
    },
    {
      "cell_type": "code",
      "metadata": {
        "colab": {
          "base_uri": "https://localhost:8080/"
        },
        "id": "uMye9CEp0Frx",
        "outputId": "4c8b31fd-e375-4afb-9cf7-d2a5dfdd3530"
      },
      "source": [
        "#Calculate and show what value the stock market started at, what was the highest value during the day, and where did it end\n",
        "print(calculate_stock_market(stocks))"
      ],
      "execution_count": 257,
      "outputs": [
        {
          "output_type": "stream",
          "text": [
            "Execution time for calculate_stock_market is 7.71549966884777e-05 sec\n",
            "Open index : 690313.4283163986 \n",
            "High index : 1022810.2888177837 \n",
            "Close index : 786403.976411441 \n",
            "     \n"
          ],
          "name": "stdout"
        }
      ]
    }
  ]
}